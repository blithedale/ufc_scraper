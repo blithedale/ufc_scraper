{
 "cells": [
  {
   "cell_type": "code",
   "execution_count": 25,
   "metadata": {
    "collapsed": false
   },
   "outputs": [],
   "source": [
    "import pandas as pd\n",
    "pd.set_option('display.max_columns', 500)\n",
    "import matplotlib.pyplot as plt\n",
    "%matplotlib inline\n",
    "import warnings\n",
    "warnings.simplefilter(action='ignore', category=FutureWarning)\n",
    "import numpy as np\n",
    "from datetime import timedelta, time, datetime\n",
    "from py2neo import Graph"
   ]
  },
  {
   "cell_type": "code",
   "execution_count": 26,
   "metadata": {
    "collapsed": false
   },
   "outputs": [],
   "source": [
    "#get fight data\n",
    "fights = pd.read_csv('fight_hist.csv')\n",
    "\n",
    "#ignore DQs\n",
    "fights = fights[fights.method != 'DQ']\n",
    "\n",
    "fights = fights.reset_index(drop = True)\n",
    "\n",
    "#remove apostrophes from womens divisions\n",
    "fights['division'] = fights.division.str.replace(\"'\", '')"
   ]
  },
  {
   "cell_type": "code",
   "execution_count": 27,
   "metadata": {
    "collapsed": false
   },
   "outputs": [],
   "source": [
    "#connect to Neo4j graph (must have Neo4j instance up and running with default settings, password set to 123)\n",
    "graph = Graph(password=\"123\")"
   ]
  },
  {
   "cell_type": "code",
   "execution_count": 309,
   "metadata": {
    "collapsed": false
   },
   "outputs": [],
   "source": [
    "#load data into graph\n",
    "tx = graph.begin()\n",
    "for index, row in fights[fights.result == 'W'].iterrows():\n",
    "    tx.evaluate('''\n",
    "       MERGE (a: fighter {name: $fighter})\n",
    "       MERGE (b: fighter {name: $opponent})\n",
    "       MERGE (b)-[r:lose_to {date: $date, division: $division, method: $method, winner: $winner, loser: $loser}]->(a)\n",
    "    ''', parameters = {'fighter': row['fighter'], 'opponent': row['opponent'], 'date':row['date'], \n",
    "                       'method':row['method'], 'division':row['division'], 'winner':row['fighter'], 'loser':row['opponent']})\n",
    "tx.commit()"
   ]
  },
  {
   "cell_type": "code",
   "execution_count": 28,
   "metadata": {
    "collapsed": true
   },
   "outputs": [],
   "source": [
    "#get pageranks for each division\n",
    "divs = [d for d in fights.division.unique() if d not in ['Open Weight', 'Catch Weight', 'Super Heavyweight']]"
   ]
  },
  {
   "cell_type": "code",
   "execution_count": 29,
   "metadata": {
    "collapsed": false
   },
   "outputs": [],
   "source": [
    "pr = {}\n",
    "tx = graph.begin()\n",
    "for d in divs:\n",
    "    cypher = '''\n",
    "CALL algo.pageRank.stream(\n",
    "\"MATCH (fighter) RETURN id(fighter) as id\",\n",
    "\"MATCH (opponent) -[lose_to]-> (fighter) where lose_to.division = '%s' RETURN id(opponent) as source, id(fighter) as target\",\n",
    "{graph:'cypher',iterations:50, dampingFactor:0.85})\n",
    "YIELD nodeId, score\n",
    "RETURN algo.asNode(nodeId).name AS fighter,score\n",
    "ORDER BY score DESC''' %d\n",
    "    dat = tx.run(cypher).data()\n",
    "    pr[d] = dat"
   ]
  },
  {
   "cell_type": "code",
   "execution_count": 30,
   "metadata": {
    "collapsed": false
   },
   "outputs": [],
   "source": [
    "#convert data into dataframes for each division\n",
    "for key in pr:\n",
    "    temp = pd.DataFrame(pr[key])\n",
    "    temp.columns = ['fighter', 'pagerank']\n",
    "    pr[key] = pd.DataFrame(temp)"
   ]
  },
  {
   "cell_type": "code",
   "execution_count": 32,
   "metadata": {
    "collapsed": false
   },
   "outputs": [],
   "source": [
    "#get names of fighter that have fought in each division\n",
    "div_fighters = {}\n",
    "for d in divs:\n",
    "    f_ls = fights[fights.division == d].fighter.unique()\n",
    "    div_fighters[d] = f_ls"
   ]
  },
  {
   "cell_type": "code",
   "execution_count": 33,
   "metadata": {
    "collapsed": false
   },
   "outputs": [
    {
     "data": {
      "text/html": [
       "<div>\n",
       "<style scoped>\n",
       "    .dataframe tbody tr th:only-of-type {\n",
       "        vertical-align: middle;\n",
       "    }\n",
       "\n",
       "    .dataframe tbody tr th {\n",
       "        vertical-align: top;\n",
       "    }\n",
       "\n",
       "    .dataframe thead th {\n",
       "        text-align: right;\n",
       "    }\n",
       "</style>\n",
       "<table border=\"1\" class=\"dataframe\">\n",
       "  <thead>\n",
       "    <tr style=\"text-align: right;\">\n",
       "      <th></th>\n",
       "      <th>fighter</th>\n",
       "      <th>pagerank</th>\n",
       "    </tr>\n",
       "  </thead>\n",
       "  <tbody>\n",
       "    <tr>\n",
       "      <th>0</th>\n",
       "      <td>Donald Cerrone</td>\n",
       "      <td>9.968550</td>\n",
       "    </tr>\n",
       "    <tr>\n",
       "      <th>1</th>\n",
       "      <td>Michael Johnson</td>\n",
       "      <td>8.789021</td>\n",
       "    </tr>\n",
       "    <tr>\n",
       "      <th>2</th>\n",
       "      <td>Rafael Dos Anjos</td>\n",
       "      <td>7.213535</td>\n",
       "    </tr>\n",
       "    <tr>\n",
       "      <th>3</th>\n",
       "      <td>Khabib Nurmagomedov</td>\n",
       "      <td>6.443480</td>\n",
       "    </tr>\n",
       "    <tr>\n",
       "      <th>4</th>\n",
       "      <td>Tony Ferguson</td>\n",
       "      <td>6.264578</td>\n",
       "    </tr>\n",
       "    <tr>\n",
       "      <th>5</th>\n",
       "      <td>Edson Barboza</td>\n",
       "      <td>5.210198</td>\n",
       "    </tr>\n",
       "    <tr>\n",
       "      <th>6</th>\n",
       "      <td>Anthony Pettis</td>\n",
       "      <td>4.426724</td>\n",
       "    </tr>\n",
       "    <tr>\n",
       "      <th>7</th>\n",
       "      <td>Benson Henderson</td>\n",
       "      <td>4.408875</td>\n",
       "    </tr>\n",
       "    <tr>\n",
       "      <th>8</th>\n",
       "      <td>Nate Diaz</td>\n",
       "      <td>4.325772</td>\n",
       "    </tr>\n",
       "    <tr>\n",
       "      <th>9</th>\n",
       "      <td>Dustin Poirier</td>\n",
       "      <td>4.308176</td>\n",
       "    </tr>\n",
       "  </tbody>\n",
       "</table>\n",
       "</div>"
      ],
      "text/plain": [
       "               fighter  pagerank\n",
       "0       Donald Cerrone  9.968550\n",
       "1      Michael Johnson  8.789021\n",
       "2     Rafael Dos Anjos  7.213535\n",
       "3  Khabib Nurmagomedov  6.443480\n",
       "4        Tony Ferguson  6.264578\n",
       "5        Edson Barboza  5.210198\n",
       "6       Anthony Pettis  4.426724\n",
       "7     Benson Henderson  4.408875\n",
       "8            Nate Diaz  4.325772\n",
       "9       Dustin Poirier  4.308176"
      ]
     },
     "execution_count": 33,
     "metadata": {},
     "output_type": "execute_result"
    }
   ],
   "source": [
    "#pageranks\n",
    "ranks = pr['Lightweight']\n",
    "ranks = ranks[ranks.fighter.isin(div_fighters['Lightweight'])]\n",
    "ranks.head(10).to_clipboard(index = False)\n",
    "ranks.head(10)"
   ]
  },
  {
   "cell_type": "code",
   "execution_count": 294,
   "metadata": {
    "collapsed": false
   },
   "outputs": [],
   "source": [
    "#get win ratio\n",
    "fights['ct'] =1 \n",
    "total_fights = fights.pivot_table(index = ['division','fighter'], values = ['ct'], aggfunc = 'sum')\n",
    "wins = fights[fights.result == 'W'].pivot_table(index = ['division','fighter'], values = ['ct'], aggfunc = 'sum') \n",
    "\n",
    "wr = pd.merge(total_fights, wins, left_index = True, right_index = True, how = 'left', copy = False)\n",
    "wr.columns = ['total_fights', 'wins']\n",
    "wr['win_ratio'] = wr.wins / wr.total_fights\n",
    "wr = wr.fillna(0)\n",
    "wr = wr.reset_index()"
   ]
  },
  {
   "cell_type": "code",
   "execution_count": 296,
   "metadata": {
    "collapsed": false
   },
   "outputs": [],
   "source": [
    "#scale page rank pageranks by win ratio\n",
    "prs = {}\n",
    "\n",
    "for d in pr:\n",
    "    #get fighter win ratio in that division\n",
    "    wrd = wr[wr.division == d]\n",
    "    \n",
    "    #df of fighter pageranks in a particular division, multiply pagerank by win ratio in that division\n",
    "    temp = pr[d]\n",
    "    temp = pd.merge(temp, wrd, on = 'fighter', how = 'left', copy = False)\n",
    "    temp['pagerank'] = temp.pagerank * temp.win_ratio\n",
    "    temp = temp[['fighter', 'pagerank']]\n",
    "    temp = temp.sort_values('pagerank', ascending = False)\n",
    "    temp = temp.reset_index(drop = True)\n",
    "    prs[d] = temp"
   ]
  },
  {
   "cell_type": "code",
   "execution_count": 300,
   "metadata": {
    "collapsed": false
   },
   "outputs": [
    {
     "data": {
      "text/html": [
       "<div>\n",
       "<style scoped>\n",
       "    .dataframe tbody tr th:only-of-type {\n",
       "        vertical-align: middle;\n",
       "    }\n",
       "\n",
       "    .dataframe tbody tr th {\n",
       "        vertical-align: top;\n",
       "    }\n",
       "\n",
       "    .dataframe thead th {\n",
       "        text-align: right;\n",
       "    }\n",
       "</style>\n",
       "<table border=\"1\" class=\"dataframe\">\n",
       "  <thead>\n",
       "    <tr style=\"text-align: right;\">\n",
       "      <th></th>\n",
       "      <th>fighter</th>\n",
       "      <th>pagerank</th>\n",
       "    </tr>\n",
       "  </thead>\n",
       "  <tbody>\n",
       "    <tr>\n",
       "      <th>0</th>\n",
       "      <td>Donald Cerrone</td>\n",
       "      <td>7.715101</td>\n",
       "    </tr>\n",
       "    <tr>\n",
       "      <th>1</th>\n",
       "      <td>Khabib Nurmagomedov</td>\n",
       "      <td>6.420802</td>\n",
       "    </tr>\n",
       "    <tr>\n",
       "      <th>2</th>\n",
       "      <td>Tony Ferguson</td>\n",
       "      <td>5.828353</td>\n",
       "    </tr>\n",
       "    <tr>\n",
       "      <th>3</th>\n",
       "      <td>Rafael Dos Anjos</td>\n",
       "      <td>4.819398</td>\n",
       "    </tr>\n",
       "    <tr>\n",
       "      <th>4</th>\n",
       "      <td>Michael Johnson</td>\n",
       "      <td>4.658021</td>\n",
       "    </tr>\n",
       "    <tr>\n",
       "      <th>5</th>\n",
       "      <td>Benson Henderson</td>\n",
       "      <td>3.317794</td>\n",
       "    </tr>\n",
       "    <tr>\n",
       "      <th>6</th>\n",
       "      <td>Edson Barboza</td>\n",
       "      <td>3.311262</td>\n",
       "    </tr>\n",
       "    <tr>\n",
       "      <th>7</th>\n",
       "      <td>Dustin Poirier</td>\n",
       "      <td>3.231020</td>\n",
       "    </tr>\n",
       "    <tr>\n",
       "      <th>8</th>\n",
       "      <td>Kevin Lee</td>\n",
       "      <td>3.039748</td>\n",
       "    </tr>\n",
       "    <tr>\n",
       "      <th>9</th>\n",
       "      <td>Beneil Dariush</td>\n",
       "      <td>2.867465</td>\n",
       "    </tr>\n",
       "  </tbody>\n",
       "</table>\n",
       "</div>"
      ],
      "text/plain": [
       "               fighter  pagerank\n",
       "0       Donald Cerrone  7.715101\n",
       "1  Khabib Nurmagomedov  6.420802\n",
       "2        Tony Ferguson  5.828353\n",
       "3     Rafael Dos Anjos  4.819398\n",
       "4      Michael Johnson  4.658021\n",
       "5     Benson Henderson  3.317794\n",
       "6        Edson Barboza  3.311262\n",
       "7       Dustin Poirier  3.231020\n",
       "8            Kevin Lee  3.039748\n",
       "9       Beneil Dariush  2.867465"
      ]
     },
     "execution_count": 300,
     "metadata": {},
     "output_type": "execute_result"
    }
   ],
   "source": [
    "#pageranks scaled by win ratio\n",
    "ranks = prs['Lightweight']\n",
    "ranks = ranks[ranks.fighter.isin(div_fighters['Lightweight'])]\n",
    "ranks.head(10).to_clipboard(index = False)\n",
    "ranks.head(10)"
   ]
  }
 ],
 "metadata": {
  "anaconda-cloud": {},
  "kernelspec": {
   "display_name": "Python [conda env:py36]",
   "language": "python",
   "name": "conda-env-py36-py"
  },
  "language_info": {
   "codemirror_mode": {
    "name": "ipython",
    "version": 3
   },
   "file_extension": ".py",
   "mimetype": "text/x-python",
   "name": "python",
   "nbconvert_exporter": "python",
   "pygments_lexer": "ipython3",
   "version": "3.6.8"
  }
 },
 "nbformat": 4,
 "nbformat_minor": 1
}
