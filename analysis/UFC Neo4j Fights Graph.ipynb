{
 "cells": [
  {
   "cell_type": "code",
   "execution_count": 25,
   "metadata": {
    "collapsed": false
   },
   "outputs": [],
   "source": [
    "import pandas as pd\n",
    "pd.set_option('display.max_columns', 500)\n",
    "import matplotlib.pyplot as plt\n",
    "%matplotlib inline\n",
    "import warnings\n",
    "warnings.simplefilter(action='ignore', category=FutureWarning)\n",
    "import numpy as np\n",
    "from datetime import timedelta, time, datetime\n",
    "from py2neo import Graph"
   ]
  },
  {
   "cell_type": "code",
   "execution_count": 127,
   "metadata": {
    "collapsed": false
   },
   "outputs": [],
   "source": [
    "#get fight data\n",
    "fights = pd.read_csv('fight_hist.csv')\n",
    "\n",
    "#ignore DQs\n",
    "fights = fights[fights.method != 'DQ']\n",
    "\n",
    "fights = fights.reset_index(drop = True)\n",
    "\n",
    "#remove apostrophes from womens divisions\n",
    "fights['division'] = fights.division.str.replace(\"'\", '')"
   ]
  },
  {
   "cell_type": "code",
   "execution_count": 128,
   "metadata": {
    "collapsed": false
   },
   "outputs": [],
   "source": [
    "#connect to Neo4j graph (must have Neo4j instance up and running with default settings, password set to 123)\n",
    "graph = Graph(password=\"123\")"
   ]
  },
  {
   "cell_type": "code",
   "execution_count": 129,
   "metadata": {
    "collapsed": false
   },
   "outputs": [],
   "source": [
    "#load data into graph\n",
    "tx = graph.begin()\n",
    "for index, row in fights[(fights.result == 'W')].iterrows():\n",
    "    tx.evaluate('''\n",
    "       MERGE (a: fighter {name: $fighter})\n",
    "       MERGE (b: fighter {name: $opponent})\n",
    "       MERGE (b)-[r:lose_to {date: $date, division: $division, method: $method}]->(a)\n",
    "    ''', parameters = {'fighter': row['fighter'], 'opponent': row['opponent'], 'date':row['date'], \n",
    "                       'method':row['method'], 'division':row['division']})\n",
    "tx.commit()"
   ]
  },
  {
   "cell_type": "code",
   "execution_count": 130,
   "metadata": {
    "collapsed": true
   },
   "outputs": [],
   "source": [
    "#get pageranks for each division\n",
    "divs = [d for d in fights.division.unique() if d not in ['Open Weight', 'Catch Weight', 'Super Heavyweight']]"
   ]
  },
  {
   "cell_type": "code",
   "execution_count": 131,
   "metadata": {
    "collapsed": false
   },
   "outputs": [],
   "source": [
    "pr = {}\n",
    "tx = graph.begin()\n",
    "for d in divs:\n",
    "    cypher = '''\n",
    "CALL algo.pageRank.stream(\n",
    "\"MATCH (fighter) RETURN id(fighter) as id\",\n",
    "\"MATCH (opponent) -[lose_to]-> (fighter) where lose_to.division = '%s' RETURN id(opponent) as source, id(fighter) as target\",\n",
    "{graph:'cypher',iterations:50, dampingFactor:0.85})\n",
    "YIELD nodeId, score\n",
    "RETURN algo.asNode(nodeId).name AS fighter,score\n",
    "ORDER BY score DESC''' %d\n",
    "    dat = tx.run(cypher).data()\n",
    "    pr[d] = dat"
   ]
  },
  {
   "cell_type": "code",
   "execution_count": 132,
   "metadata": {
    "collapsed": false
   },
   "outputs": [],
   "source": [
    "#convert data into dataframes for each division\n",
    "for key in pr:\n",
    "    temp = pd.DataFrame(pr[key])\n",
    "    temp.columns = ['fighter', 'pagerank']\n",
    "    pr[key] = pd.DataFrame(temp)"
   ]
  },
  {
   "cell_type": "code",
   "execution_count": 133,
   "metadata": {
    "collapsed": false
   },
   "outputs": [],
   "source": [
    "#get names of fighter that have fought in each division\n",
    "div_fighters = {}\n",
    "for d in divs:\n",
    "    f_ls = fights[fights.division == d].fighter.unique()\n",
    "    div_fighters[d] = f_ls"
   ]
  },
  {
   "cell_type": "code",
   "execution_count": 157,
   "metadata": {
    "collapsed": false
   },
   "outputs": [
    {
     "data": {
      "text/html": [
       "<div>\n",
       "<style scoped>\n",
       "    .dataframe tbody tr th:only-of-type {\n",
       "        vertical-align: middle;\n",
       "    }\n",
       "\n",
       "    .dataframe tbody tr th {\n",
       "        vertical-align: top;\n",
       "    }\n",
       "\n",
       "    .dataframe thead th {\n",
       "        text-align: right;\n",
       "    }\n",
       "</style>\n",
       "<table border=\"1\" class=\"dataframe\">\n",
       "  <thead>\n",
       "    <tr style=\"text-align: right;\">\n",
       "      <th></th>\n",
       "      <th>fighter</th>\n",
       "      <th>pagerank</th>\n",
       "    </tr>\n",
       "  </thead>\n",
       "  <tbody>\n",
       "    <tr>\n",
       "      <th>0</th>\n",
       "      <td>Stipe Miocic</td>\n",
       "      <td>12.745001</td>\n",
       "    </tr>\n",
       "    <tr>\n",
       "      <th>1</th>\n",
       "      <td>Junior Dos Santos</td>\n",
       "      <td>10.708844</td>\n",
       "    </tr>\n",
       "    <tr>\n",
       "      <th>2</th>\n",
       "      <td>Francis Ngannou</td>\n",
       "      <td>7.423609</td>\n",
       "    </tr>\n",
       "    <tr>\n",
       "      <th>3</th>\n",
       "      <td>Derrick Lewis</td>\n",
       "      <td>6.569102</td>\n",
       "    </tr>\n",
       "    <tr>\n",
       "      <th>4</th>\n",
       "      <td>Cain Velasquez</td>\n",
       "      <td>6.246229</td>\n",
       "    </tr>\n",
       "    <tr>\n",
       "      <th>5</th>\n",
       "      <td>Stefan Struve</td>\n",
       "      <td>5.743494</td>\n",
       "    </tr>\n",
       "    <tr>\n",
       "      <th>6</th>\n",
       "      <td>Alistair Overeem</td>\n",
       "      <td>5.468971</td>\n",
       "    </tr>\n",
       "    <tr>\n",
       "      <th>7</th>\n",
       "      <td>Daniel Cormier</td>\n",
       "      <td>5.361267</td>\n",
       "    </tr>\n",
       "    <tr>\n",
       "      <th>8</th>\n",
       "      <td>Andrei Arlovski</td>\n",
       "      <td>5.286756</td>\n",
       "    </tr>\n",
       "    <tr>\n",
       "      <th>9</th>\n",
       "      <td>Fabricio Werdum</td>\n",
       "      <td>4.653989</td>\n",
       "    </tr>\n",
       "  </tbody>\n",
       "</table>\n",
       "</div>"
      ],
      "text/plain": [
       "             fighter   pagerank\n",
       "0       Stipe Miocic  12.745001\n",
       "1  Junior Dos Santos  10.708844\n",
       "2    Francis Ngannou   7.423609\n",
       "3      Derrick Lewis   6.569102\n",
       "4     Cain Velasquez   6.246229\n",
       "5      Stefan Struve   5.743494\n",
       "6   Alistair Overeem   5.468971\n",
       "7     Daniel Cormier   5.361267\n",
       "8    Andrei Arlovski   5.286756\n",
       "9    Fabricio Werdum   4.653989"
      ]
     },
     "execution_count": 157,
     "metadata": {},
     "output_type": "execute_result"
    }
   ],
   "source": [
    "#pageranks\n",
    "ranks = pr['Heavyweight']\n",
    "ranks = ranks[ranks.fighter.isin(div_fighters['Heavyweight'])]\n",
    "ranks.head(10).to_clipboard(index = False)\n",
    "ranks.head(10)"
   ]
  },
  {
   "cell_type": "code",
   "execution_count": 135,
   "metadata": {
    "collapsed": false
   },
   "outputs": [],
   "source": [
    "#get win ratio\n",
    "fights['ct'] =1 \n",
    "total_fights = fights.pivot_table(index = ['division','fighter'], values = ['ct'], aggfunc = 'sum')\n",
    "wins = fights[fights.result == 'W'].pivot_table(index = ['division','fighter'], values = ['ct'], aggfunc = 'sum') \n",
    "\n",
    "wr = pd.merge(total_fights, wins, left_index = True, right_index = True, how = 'left', copy = False)\n",
    "wr.columns = ['total_fights', 'wins']\n",
    "wr['win_ratio'] = wr.wins / wr.total_fights\n",
    "wr = wr.fillna(0)\n",
    "wr = wr.reset_index()"
   ]
  },
  {
   "cell_type": "code",
   "execution_count": 136,
   "metadata": {
    "collapsed": false
   },
   "outputs": [],
   "source": [
    "#scale page rank pageranks by win ratio\n",
    "prs = {}\n",
    "\n",
    "for d in pr:\n",
    "    #get fighter win ratio in that division\n",
    "    wrd = wr[wr.division == d]\n",
    "    \n",
    "    #df of fighter pageranks in a particular division, multiply pagerank by win ratio in that division\n",
    "    temp = pr[d]\n",
    "    temp = pd.merge(temp, wrd, on = 'fighter', how = 'left', copy = False)\n",
    "    temp['pagerank'] = temp.pagerank * temp.win_ratio\n",
    "    temp = temp[['fighter', 'pagerank']]\n",
    "    temp = temp.sort_values('pagerank', ascending = False)\n",
    "    temp = temp.reset_index(drop = True)\n",
    "    prs[d] = temp"
   ]
  },
  {
   "cell_type": "code",
   "execution_count": 161,
   "metadata": {
    "collapsed": false
   },
   "outputs": [
    {
     "data": {
      "text/html": [
       "<div>\n",
       "<style scoped>\n",
       "    .dataframe tbody tr th:only-of-type {\n",
       "        vertical-align: middle;\n",
       "    }\n",
       "\n",
       "    .dataframe tbody tr th {\n",
       "        vertical-align: top;\n",
       "    }\n",
       "\n",
       "    .dataframe thead th {\n",
       "        text-align: right;\n",
       "    }\n",
       "</style>\n",
       "<table border=\"1\" class=\"dataframe\">\n",
       "  <thead>\n",
       "    <tr style=\"text-align: right;\">\n",
       "      <th></th>\n",
       "      <th>fighter</th>\n",
       "      <th>pagerank</th>\n",
       "    </tr>\n",
       "  </thead>\n",
       "  <tbody>\n",
       "    <tr>\n",
       "      <th>0</th>\n",
       "      <td>Stipe Miocic</td>\n",
       "      <td>10.355313</td>\n",
       "    </tr>\n",
       "    <tr>\n",
       "      <th>1</th>\n",
       "      <td>Junior Dos Santos</td>\n",
       "      <td>8.031633</td>\n",
       "    </tr>\n",
       "    <tr>\n",
       "      <th>2</th>\n",
       "      <td>Francis Ngannou</td>\n",
       "      <td>6.073862</td>\n",
       "    </tr>\n",
       "    <tr>\n",
       "      <th>3</th>\n",
       "      <td>Cain Velasquez</td>\n",
       "      <td>4.996983</td>\n",
       "    </tr>\n",
       "    <tr>\n",
       "      <th>4</th>\n",
       "      <td>Derrick Lewis</td>\n",
       "      <td>4.637013</td>\n",
       "    </tr>\n",
       "    <tr>\n",
       "      <th>5</th>\n",
       "      <td>Daniel Cormier</td>\n",
       "      <td>4.289014</td>\n",
       "    </tr>\n",
       "    <tr>\n",
       "      <th>6</th>\n",
       "      <td>Alistair Overeem</td>\n",
       "      <td>3.418107</td>\n",
       "    </tr>\n",
       "    <tr>\n",
       "      <th>7</th>\n",
       "      <td>Stefan Struve</td>\n",
       "      <td>3.393883</td>\n",
       "    </tr>\n",
       "    <tr>\n",
       "      <th>8</th>\n",
       "      <td>Fabricio Werdum</td>\n",
       "      <td>3.199617</td>\n",
       "    </tr>\n",
       "    <tr>\n",
       "      <th>9</th>\n",
       "      <td>Andrei Arlovski</td>\n",
       "      <td>2.995828</td>\n",
       "    </tr>\n",
       "  </tbody>\n",
       "</table>\n",
       "</div>"
      ],
      "text/plain": [
       "             fighter   pagerank\n",
       "0       Stipe Miocic  10.355313\n",
       "1  Junior Dos Santos   8.031633\n",
       "2    Francis Ngannou   6.073862\n",
       "3     Cain Velasquez   4.996983\n",
       "4      Derrick Lewis   4.637013\n",
       "5     Daniel Cormier   4.289014\n",
       "6   Alistair Overeem   3.418107\n",
       "7      Stefan Struve   3.393883\n",
       "8    Fabricio Werdum   3.199617\n",
       "9    Andrei Arlovski   2.995828"
      ]
     },
     "execution_count": 161,
     "metadata": {},
     "output_type": "execute_result"
    }
   ],
   "source": [
    "#pageranks scaled by win ratio\n",
    "ranks = prs['Heavyweight']\n",
    "ranks = ranks[ranks.fighter.isin(div_fighters['Heavyweight'])]\n",
    "ranks.head(10).to_clipboard(index = False)\n",
    "ranks.head(10)"
   ]
  },
  {
   "cell_type": "code",
   "execution_count": 138,
   "metadata": {
    "collapsed": false
   },
   "outputs": [
    {
     "name": "stdout",
     "output_type": "stream",
     "text": [
      "['Gregor Gillespie' 'Khabib Nurmagomedov' 'Tony Ferguson']\n",
      "['Khabib Nurmagomedov' 'Tony Ferguson']\n"
     ]
    }
   ],
   "source": [
    "#demonstrate how personalized pagerank has very different results depending on sourceNodes\n",
    "\n",
    "#criteria A\n",
    "print(wr[(wr.division == 'Lightweight') & (wr.total_fights >= 6) & (wr.win_ratio >= 0.9)].fighter.values)\n",
    "\n",
    "#criteria B\n",
    "print(wr[(wr.division == 'Lightweight') & (wr.total_fights >= 10) & (wr.win_ratio >= 0.9)].fighter.values)"
   ]
  },
  {
   "cell_type": "code",
   "execution_count": 167,
   "metadata": {
    "collapsed": false
   },
   "outputs": [
    {
     "data": {
      "text/html": [
       "<div>\n",
       "<style scoped>\n",
       "    .dataframe tbody tr th:only-of-type {\n",
       "        vertical-align: middle;\n",
       "    }\n",
       "\n",
       "    .dataframe tbody tr th {\n",
       "        vertical-align: top;\n",
       "    }\n",
       "\n",
       "    .dataframe thead th {\n",
       "        text-align: right;\n",
       "    }\n",
       "</style>\n",
       "<table border=\"1\" class=\"dataframe\">\n",
       "  <thead>\n",
       "    <tr style=\"text-align: right;\">\n",
       "      <th></th>\n",
       "      <th>fighter</th>\n",
       "      <th>score</th>\n",
       "    </tr>\n",
       "  </thead>\n",
       "  <tbody>\n",
       "    <tr>\n",
       "      <th>0</th>\n",
       "      <td>Khabib Nurmagomedov</td>\n",
       "      <td>0.178230</td>\n",
       "    </tr>\n",
       "    <tr>\n",
       "      <th>1</th>\n",
       "      <td>Tony Ferguson</td>\n",
       "      <td>0.160010</td>\n",
       "    </tr>\n",
       "    <tr>\n",
       "      <th>2</th>\n",
       "      <td>Michael Johnson</td>\n",
       "      <td>0.144926</td>\n",
       "    </tr>\n",
       "    <tr>\n",
       "      <th>3</th>\n",
       "      <td>Donald Cerrone</td>\n",
       "      <td>0.026529</td>\n",
       "    </tr>\n",
       "    <tr>\n",
       "      <th>4</th>\n",
       "      <td>Justin Gaethje</td>\n",
       "      <td>0.020523</td>\n",
       "    </tr>\n",
       "    <tr>\n",
       "      <th>5</th>\n",
       "      <td>Nate Diaz</td>\n",
       "      <td>0.020517</td>\n",
       "    </tr>\n",
       "    <tr>\n",
       "      <th>6</th>\n",
       "      <td>Beneil Dariush</td>\n",
       "      <td>0.017330</td>\n",
       "    </tr>\n",
       "    <tr>\n",
       "      <th>7</th>\n",
       "      <td>Myles Jury</td>\n",
       "      <td>0.016642</td>\n",
       "    </tr>\n",
       "    <tr>\n",
       "      <th>8</th>\n",
       "      <td>Paul Sass</td>\n",
       "      <td>0.015783</td>\n",
       "    </tr>\n",
       "    <tr>\n",
       "      <th>9</th>\n",
       "      <td>Reza Madadi</td>\n",
       "      <td>0.015398</td>\n",
       "    </tr>\n",
       "  </tbody>\n",
       "</table>\n",
       "</div>"
      ],
      "text/plain": [
       "               fighter     score\n",
       "0  Khabib Nurmagomedov  0.178230\n",
       "1        Tony Ferguson  0.160010\n",
       "2      Michael Johnson  0.144926\n",
       "3       Donald Cerrone  0.026529\n",
       "4       Justin Gaethje  0.020523\n",
       "5            Nate Diaz  0.020517\n",
       "6       Beneil Dariush  0.017330\n",
       "7           Myles Jury  0.016642\n",
       "8            Paul Sass  0.015783\n",
       "9          Reza Madadi  0.015398"
      ]
     },
     "execution_count": 167,
     "metadata": {},
     "output_type": "execute_result"
    }
   ],
   "source": [
    "#criteria A Lightweight rankings\n",
    "tx = graph.begin()\n",
    "cypher = '''\n",
    "MATCH (bias) WHERE bias.name in ['Khabib Nurmagomedov', 'Tony Ferguson'] WITH collect(bias) as bias\n",
    "CALL algo.pageRank.stream(\n",
    "\"MATCH (fighter) RETURN id(fighter) as id\",\n",
    "\"MATCH (opponent) -[lose_to]-> (fighter) where lose_to.division = 'Lightweight' RETURN id(opponent) as source, id(fighter) as target\",\n",
    "{graph:'cypher',iterations:50, dampingFactor:0.85, sourceNodes:bias})\n",
    "YIELD nodeId, score\n",
    "RETURN algo.asNode(nodeId).name AS fighter,score\n",
    "ORDER BY score DESC'''\n",
    "dat = tx.run(cypher).data()\n",
    "pd.DataFrame(dat).head(10).to_clipboard(index = False)\n",
    "pd.DataFrame(dat).head(10)"
   ]
  },
  {
   "cell_type": "code",
   "execution_count": 141,
   "metadata": {
    "collapsed": false
   },
   "outputs": [
    {
     "data": {
      "text/html": [
       "<div>\n",
       "<style scoped>\n",
       "    .dataframe tbody tr th:only-of-type {\n",
       "        vertical-align: middle;\n",
       "    }\n",
       "\n",
       "    .dataframe tbody tr th {\n",
       "        vertical-align: top;\n",
       "    }\n",
       "\n",
       "    .dataframe thead th {\n",
       "        text-align: right;\n",
       "    }\n",
       "</style>\n",
       "<table border=\"1\" class=\"dataframe\">\n",
       "  <thead>\n",
       "    <tr style=\"text-align: right;\">\n",
       "      <th></th>\n",
       "      <th>fighter</th>\n",
       "      <th>score</th>\n",
       "    </tr>\n",
       "  </thead>\n",
       "  <tbody>\n",
       "    <tr>\n",
       "      <th>0</th>\n",
       "      <td>Khabib Nurmagomedov</td>\n",
       "      <td>0.178230</td>\n",
       "    </tr>\n",
       "    <tr>\n",
       "      <th>1</th>\n",
       "      <td>Tony Ferguson</td>\n",
       "      <td>0.160010</td>\n",
       "    </tr>\n",
       "    <tr>\n",
       "      <th>2</th>\n",
       "      <td>Gregor Gillespie</td>\n",
       "      <td>0.150945</td>\n",
       "    </tr>\n",
       "    <tr>\n",
       "      <th>3</th>\n",
       "      <td>Michael Johnson</td>\n",
       "      <td>0.144926</td>\n",
       "    </tr>\n",
       "    <tr>\n",
       "      <th>4</th>\n",
       "      <td>Donald Cerrone</td>\n",
       "      <td>0.026529</td>\n",
       "    </tr>\n",
       "    <tr>\n",
       "      <th>5</th>\n",
       "      <td>Justin Gaethje</td>\n",
       "      <td>0.020523</td>\n",
       "    </tr>\n",
       "    <tr>\n",
       "      <th>6</th>\n",
       "      <td>Nate Diaz</td>\n",
       "      <td>0.020517</td>\n",
       "    </tr>\n",
       "    <tr>\n",
       "      <th>7</th>\n",
       "      <td>Beneil Dariush</td>\n",
       "      <td>0.017330</td>\n",
       "    </tr>\n",
       "    <tr>\n",
       "      <th>8</th>\n",
       "      <td>Myles Jury</td>\n",
       "      <td>0.016642</td>\n",
       "    </tr>\n",
       "    <tr>\n",
       "      <th>9</th>\n",
       "      <td>Paul Sass</td>\n",
       "      <td>0.015783</td>\n",
       "    </tr>\n",
       "  </tbody>\n",
       "</table>\n",
       "</div>"
      ],
      "text/plain": [
       "               fighter     score\n",
       "0  Khabib Nurmagomedov  0.178230\n",
       "1        Tony Ferguson  0.160010\n",
       "2     Gregor Gillespie  0.150945\n",
       "3      Michael Johnson  0.144926\n",
       "4       Donald Cerrone  0.026529\n",
       "5       Justin Gaethje  0.020523\n",
       "6            Nate Diaz  0.020517\n",
       "7       Beneil Dariush  0.017330\n",
       "8           Myles Jury  0.016642\n",
       "9            Paul Sass  0.015783"
      ]
     },
     "execution_count": 141,
     "metadata": {},
     "output_type": "execute_result"
    }
   ],
   "source": [
    "#criteria B Lightweight rankings\n",
    "tx = graph.begin()\n",
    "cypher = '''\n",
    "MATCH (bias) WHERE bias.name in ['Khabib Nurmagomedov', 'Tony Ferguson', 'Gregor Gillespie'] WITH collect(bias) as bias\n",
    "CALL algo.pageRank.stream(\n",
    "\"MATCH (fighter) RETURN id(fighter) as id\",\n",
    "\"MATCH (opponent) -[lose_to]-> (fighter) where lose_to.division = 'Lightweight' RETURN id(opponent) as source, id(fighter) as target\",\n",
    "{graph:'cypher',iterations:50, dampingFactor:0.85, sourceNodes:bias})\n",
    "YIELD nodeId, score\n",
    "RETURN algo.asNode(nodeId).name AS fighter,score\n",
    "ORDER BY score DESC'''\n",
    "dat = tx.run(cypher).data()\n",
    "pd.DataFrame(dat).head(10).to_clipboard(index = False)\n",
    "pd.DataFrame(dat).head(10)"
   ]
  },
  {
   "cell_type": "code",
   "execution_count": null,
   "metadata": {
    "collapsed": true
   },
   "outputs": [],
   "source": []
  }
 ],
 "metadata": {
  "anaconda-cloud": {},
  "kernelspec": {
   "display_name": "Python [conda env:py36]",
   "language": "python",
   "name": "conda-env-py36-py"
  },
  "language_info": {
   "codemirror_mode": {
    "name": "ipython",
    "version": 3
   },
   "file_extension": ".py",
   "mimetype": "text/x-python",
   "name": "python",
   "nbconvert_exporter": "python",
   "pygments_lexer": "ipython3",
   "version": "3.6.8"
  }
 },
 "nbformat": 4,
 "nbformat_minor": 1
}
