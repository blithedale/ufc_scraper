{
 "cells": [
  {
   "cell_type": "code",
   "execution_count": 2,
   "metadata": {
    "collapsed": false
   },
   "outputs": [],
   "source": [
    "import requests\n",
    "import urllib3\n",
    "from bs4 import BeautifulSoup\n",
    "import pandas as pd\n",
    "import re\n",
    "from datetime import datetime, timedelta\n",
    "pd.set_option('display.max_columns', 500)\n",
    "\n",
    "from ufc_scraper import get_fight_stats, get_fight_card, get_all_fight_stats, get_fighter_details, update_fight_stats, update_fighter_details "
   ]
  },
  {
   "cell_type": "markdown",
   "metadata": {},
   "source": [
    "The section below shows how to use the functions for an initial data pull of fight history and fighter stats:"
   ]
  },
  {
   "cell_type": "code",
   "execution_count": 27,
   "metadata": {
    "collapsed": false,
    "scrolled": true
   },
   "outputs": [],
   "source": [
    "#scrape data from scratch\n",
    "fight_hist = get_all_fight_stats()\n",
    "\n",
    "fighter_stats = get_fighter_details(fight_hist.fighter_url.unique())"
   ]
  },
  {
   "cell_type": "code",
   "execution_count": 26,
   "metadata": {
    "collapsed": false
   },
   "outputs": [],
   "source": [
    "#save data\n",
    "fight_hist.to_csv('fight_hist.csv', index = False)\n",
    "fighter_stats.to_csv('fighter_stats.csv', index = False)"
   ]
  },
  {
   "cell_type": "markdown",
   "metadata": {},
   "source": [
    "The section below shows how to use the function for updating dataframe for fight history and fighter stats:"
   ]
  },
  {
   "cell_type": "code",
   "execution_count": 4,
   "metadata": {
    "collapsed": true
   },
   "outputs": [],
   "source": [
    "#get already saved data\n",
    "fight_hist_old = pd.read_csv('fight_hist.csv')\n",
    "\n",
    "fighter_stats_old = pd.read_csv('fighter_stats.csv')"
   ]
  },
  {
   "cell_type": "code",
   "execution_count": 5,
   "metadata": {
    "collapsed": false,
    "scrolled": true
   },
   "outputs": [
    {
     "name": "stdout",
     "output_type": "stream",
     "text": [
      "http://ufcstats.com/event-details/a79bfbc01b2264d6\n",
      "http://ufcstats.com/event-details/2c104b7e59a72629\n",
      "http://ufcstats.com/event-details/70167689d6a01793\n",
      "http://ufcstats.com/event-details/e5d03e4d966126bd\n",
      "http://ufcstats.com/event-details/03da33a102d9a45f\n",
      "adding new fighter: http://ufcstats.com/fighter-details/74f9448b97bf8bec\n",
      "adding new fighter: http://ufcstats.com/fighter-details/787bb1f087ccff8a\n",
      "adding new fighter: http://ufcstats.com/fighter-details/7559395ad833c074\n",
      "adding new fighter: http://ufcstats.com/fighter-details/7bde387d50829adf\n",
      "adding new fighter: http://ufcstats.com/fighter-details/396fe87b84ac2e1c\n",
      "adding new fighter: http://ufcstats.com/fighter-details/260e9e0d4954aea6\n",
      "adding new fighter: http://ufcstats.com/fighter-details/ee18ff42063174df\n",
      "adding new fighter: http://ufcstats.com/fighter-details/1897b7b913736a7c\n",
      "adding new fighter: http://ufcstats.com/fighter-details/3b0a516d2921e0d6\n",
      "adding new fighter: http://ufcstats.com/fighter-details/e99821959a840bb8\n",
      "adding new fighter: http://ufcstats.com/fighter-details/41f90012b86a11bf\n",
      "adding new fighter: http://ufcstats.com/fighter-details/351c4ec637380ad5\n",
      "adding new fighter: http://ufcstats.com/fighter-details/f9a20a17d712ef7c\n",
      "adding new fighter: http://ufcstats.com/fighter-details/78e501478a36a018\n",
      "adding new fighter: http://ufcstats.com/fighter-details/c3218c810959d279\n",
      "adding new fighter: http://ufcstats.com/fighter-details/1e4f273069fb9e85\n",
      "adding new fighter: http://ufcstats.com/fighter-details/43a59ce3bb40449e\n",
      "adding new fighter: http://ufcstats.com/fighter-details/3fa7688bfe48a493\n",
      "adding new fighter: http://ufcstats.com/fighter-details/26e3f3928b1891d9\n",
      "adding new fighter: http://ufcstats.com/fighter-details/285ae0b4a68221f4\n",
      "adding new fighter: http://ufcstats.com/fighter-details/ec18eb918121787c\n",
      "adding new fighter: http://ufcstats.com/fighter-details/eebc23626e38f5dc\n"
     ]
    }
   ],
   "source": [
    "#update fight hist dataframe\n",
    "fight_hist_updated = update_fight_stats(fight_hist_old)\n",
    "\n",
    "#update fighter stats\n",
    "fighter_stats_updated = update_fighter_details(fight_hist_updated.fighter_url.unique(), fighter_stats_old)"
   ]
  },
  {
   "cell_type": "code",
   "execution_count": 6,
   "metadata": {
    "collapsed": false
   },
   "outputs": [],
   "source": [
    "#save updated dataframes\n",
    "fight_hist_updated.to_csv('fight_hist.csv', index = False)\n",
    "fighter_stats_updated.to_csv('fighter_stats.csv', index = False)"
   ]
  },
  {
   "cell_type": "code",
   "execution_count": null,
   "metadata": {
    "collapsed": true
   },
   "outputs": [],
   "source": []
  }
 ],
 "metadata": {
  "anaconda-cloud": {},
  "kernelspec": {
   "display_name": "Python [conda env:py36]",
   "language": "python",
   "name": "conda-env-py36-py"
  },
  "language_info": {
   "codemirror_mode": {
    "name": "ipython",
    "version": 3
   },
   "file_extension": ".py",
   "mimetype": "text/x-python",
   "name": "python",
   "nbconvert_exporter": "python",
   "pygments_lexer": "ipython3",
   "version": "3.6.8"
  }
 },
 "nbformat": 4,
 "nbformat_minor": 1
}
